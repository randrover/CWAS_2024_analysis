{
 "cells": [
  {
   "cell_type": "markdown",
   "metadata": {},
   "source": [
    "## Mannens et al., bioRxiv (2023)"
   ]
  },
  {
   "cell_type": "markdown",
   "metadata": {},
   "source": [
    "#### https://github.com/linnarsson-lab/fetal_brain_multiomics?tab=readme-ov-file\n",
    "#### https://github.com/linnarsson-lab/fetal_brain_multiomics/blob/main/files/supplementals/Extended_data_2_Cluster_annotation.xlsx"
   ]
  },
  {
   "cell_type": "code",
   "execution_count": null,
   "metadata": {},
   "outputs": [],
   "source": [
    "import anndata\n",
    "from pybedtools import BedTool\n",
    "import pandas as pd\n",
    "import numpy as np"
   ]
  },
  {
   "cell_type": "code",
   "execution_count": null,
   "metadata": {},
   "outputs": [],
   "source": [
    "peak = anndata.read_loom(\"Pool_peaks.agg.loom\")\n",
    "peak"
   ]
  },
  {
   "cell_type": "code",
   "execution_count": null,
   "metadata": {},
   "outputs": [],
   "source": [
    "clust_annotation = pd.read_excel(\"Extended_data_2_Cluster_annotation.xlsx\")\n",
    "clust_annotation = clust_annotation.iloc[:, 1:]"
   ]
  },
  {
   "cell_type": "code",
   "execution_count": null,
   "metadata": {},
   "outputs": [],
   "source": [
    "clust_annotation"
   ]
  },
  {
   "cell_type": "code",
   "execution_count": null,
   "metadata": {},
   "outputs": [],
   "source": [
    "Telencephalon_clust = clust_annotation.loc[clust_annotation.MostCommonRegion == \"Telencephalon\"]\n",
    "Telencephalon_clust"
   ]
  },
  {
   "cell_type": "code",
   "execution_count": null,
   "metadata": {},
   "outputs": [],
   "source": [
    "cerebrum_peaks = peak[peak.obs['ClusterName'].isin(Telencephalon_clust['Cluster name'])]\n",
    "cerebrum_peaks.obs['NPeaks']"
   ]
  },
  {
   "cell_type": "code",
   "execution_count": null,
   "metadata": {},
   "outputs": [],
   "source": [
    "cerebrum_peaks_mat = cerebrum_peaks.layers['binary'].todense() # 1: exist 0: non-exist\n",
    "clust_peak_idx = list(np.where(cerebrum_peaks_mat[0]==1)[1])\n",
    "cerebrum_peaks.var.iloc[(clust_peak_idx)]"
   ]
  },
  {
   "cell_type": "code",
   "execution_count": null,
   "metadata": {},
   "outputs": [],
   "source": [
    "cerebrum_peak_beds = pd.DataFrame()\n",
    "\n",
    "for i in range(len(cerebrum_peaks_mat)):\n",
    "    c = Telencephalon_clust.iloc[i]['Cluster name']\n",
    "    clust_peak_idx = list(np.where(cerebrum_peaks_mat[i]==1)[1])\n",
    "    clust_peak = pd.DataFrame(cerebrum_peaks.var).iloc[clust_peak_idx]\n",
    "    clust_peak_bed = clust_peak.loc[:, ['Chr','Start','End']]\n",
    "    clust_peak_bed['Cluster name'] = c\n",
    "    cerebrum_peak_beds = pd.concat([cerebrum_peak_beds, clust_peak_bed])\n",
    "    "
   ]
  },
  {
   "cell_type": "code",
   "execution_count": null,
   "metadata": {},
   "outputs": [],
   "source": [
    "cerebrum_peak_beds"
   ]
  },
  {
   "cell_type": "code",
   "execution_count": null,
   "metadata": {},
   "outputs": [],
   "source": [
    "clust_annot = Telencephalon_clust.loc[:,[\"Cluster name\",\"Full Name\"]]\n",
    "clust_annot['Cluster'] = ['MGE','LGE.DGE','GABA','GluN1','GluN2','Neuroblast','Neuroblast','GluN3','RG','vRG','dRG','RG']\n",
    "clust_annot"
   ]
  },
  {
   "cell_type": "code",
   "execution_count": null,
   "metadata": {},
   "outputs": [],
   "source": [
    "cerebrum_peak_beds = pd.merge(cerebrum_peak_beds, clust_annot, on=\"Cluster name\")"
   ]
  },
  {
   "cell_type": "code",
   "execution_count": null,
   "metadata": {},
   "outputs": [],
   "source": [
    "celltypes = cerebrum_peak_beds['Cluster'].unique().tolist()\n",
    "\n",
    "for c in celltypes:\n",
    "    c_peak_beds = cerebrum_peak_beds.loc[cerebrum_peak_beds['Cluster']==c]\n",
    "    c_peak_beds = c_peak_beds.loc[:, [\"Chr\",\"Start\",\"End\"]]\n",
    "    c_peak_beds = BedTool.from_dataframe(c_peak_beds).sort().to_dataframe()\n",
    "    \n",
    "    c_peak_beds.to_csv(\"Mannens2023/Mannens_{}_regulatory_elements.sorted.bed\".format(c), sep=\"\\t\", index=False, header=False)"
   ]
  }
 ],
 "metadata": {
  "kernelspec": {
   "display_name": "cell2loc_env",
   "language": "python",
   "name": "python3"
  },
  "language_info": {
   "codemirror_mode": {
    "name": "ipython",
    "version": 3
   },
   "file_extension": ".py",
   "mimetype": "text/x-python",
   "name": "python",
   "nbconvert_exporter": "python",
   "pygments_lexer": "ipython3",
   "version": "3.10.12"
  }
 },
 "nbformat": 4,
 "nbformat_minor": 2
}
