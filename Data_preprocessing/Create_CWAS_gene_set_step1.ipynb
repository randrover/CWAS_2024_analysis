{
 "cells": [
  {
   "cell_type": "markdown",
   "metadata": {},
   "source": [
    "## Create a CWAS gene set: Step 1"
   ]
  },
  {
   "cell_type": "markdown",
   "metadata": {},
   "source": [
    "### 0. Preparation"
   ]
  },
  {
   "cell_type": "code",
   "execution_count": null,
   "metadata": {},
   "outputs": [],
   "source": [
    "# Import statements\n",
    "import os\n",
    "import yaml\n",
    "import numpy as np\n",
    "import pandas as pd\n",
    "\n",
    "from collections import defaultdict"
   ]
  },
  {
   "cell_type": "code",
   "execution_count": null,
   "metadata": {},
   "outputs": [],
   "source": [
    "# Path settings\n",
    "project_dir = os.path.dirname(os.path.abspath('.'))\n",
    "conf_dir = os.path.join(project_dir, 'conf3')\n",
    "path_conf_path = os.path.join(conf_dir, 'filepaths.yaml')\n",
    "gene_list_conf_path = os.path.join(conf_dir, 'gene_list_names.yaml')\n",
    "gene_type_conf_path = os.path.join(conf_dir, 'gene_biotype.yaml')\n",
    "\n",
    "with open(path_conf_path) as path_conf_file:\n",
    "    path_dict = yaml.safe_load(path_conf_file)\n",
    "    \n",
    "with open(gene_list_conf_path) as gene_list_conf_file:\n",
    "    gene_list_name_dict = yaml.safe_load(gene_list_conf_file)\n",
    "\n",
    "log_dir = os.path.join(project_dir, path_dict['LOG_DIR'])\n",
    "os.makedirs(log_dir, exist_ok=True)\n",
    "\n",
    "gencode_path = os.path.join(project_dir, path_dict['GENCODE'])\n",
    "prev_gene_mat_path = os.path.join(project_dir, path_dict['An2018'])\n",
    "hgnc_path = os.path.join(project_dir, path_dict['HGNC'])\n",
    "#alt_gene_list_path = os.path.join(project_dir, path_dict['An2018_ALT_GENE'])"
   ]
  },
  {
   "cell_type": "code",
   "execution_count": null,
   "metadata": {},
   "outputs": [],
   "source": [
    "# Load the data\n",
    "gencode_df = pd.read_table(gencode_path, compression='gzip', comment='#', names=['seqname', 'source', 'feature', 'start', 'end', 'score', 'strand', 'frame', 'attribute'])  \n",
    "gencode_gene_df = gencode_df[gencode_df['feature'] == 'gene']  # List up only genes\n",
    "gencode_tx_df = gencode_df[gencode_df['feature'] == 'transcript']  # List up only transcripts\n",
    "hgnc_df = pd.read_table(hgnc_path, usecols=['hgnc_id', 'symbol', 'alias_symbol', 'prev_symbol', 'ensembl_gene_id', 'ucsc_id', 'refseq_accession'])\n",
    "#prev_gene_mat_df = pd.read_excel(prev_gene_mat_path, sheet_name='8-1 Genesets')"
   ]
  },
  {
   "cell_type": "code",
   "execution_count": null,
   "metadata": {},
   "outputs": [],
   "source": [
    "# Function to parse strings of the 'attribute' field in the GENCODE.\n",
    "def parse_attr_str(attr_str):\n",
    "    attrs = attr_str.split(';')\n",
    "    attr_dict = {}\n",
    "    \n",
    "    for attr in attrs:\n",
    "        key, value = attr.split('=')\n",
    "        attr_dict[key] = value\n",
    "        \n",
    "    return attr_dict"
   ]
  },
  {
   "cell_type": "code",
   "execution_count": null,
   "metadata": {},
   "outputs": [],
   "source": [
    "# Parse values of the 'attribute' field in the GENCODE\n",
    "gene_to_attr_dict = {}  # Key: GeneID, Value: A dictionary for the information in the 'attribute' columns\n",
    "gene_name_to_ids = defaultdict(list)  # Key: Gene name, Value: The list of gene IDs\n",
    "hgnc_to_ids = defaultdict(list)  # Key: HGNC ID, Value: The list of gene IDs\n",
    "\n",
    "for attr_str in gencode_gene_df['attribute'].values:\n",
    "    attr_dict = parse_attr_str(attr_str)\n",
    "    \n",
    "    if not attr_dict['ID'].endswith('Y'):  # Ignore pseudoautosome region (PAR_Y)\n",
    "        gene_id = attr_dict['ID'].split('.')[0]\n",
    "        gene_to_attr_dict[gene_id] = attr_dict\n",
    "        gene_name_to_ids[attr_dict['gene_name']].append(gene_id)\n",
    "        hgnc_id = attr_dict.get('hgnc_id')\n",
    "        \n",
    "        if hgnc_id is not None:\n",
    "            hgnc_to_ids[hgnc_id].append(gene_id)\n",
    "\n",
    "tx_to_attr_dict = {}  # Key: GeneID, Value: A dictionary for the information in the 'attribute' columns\n",
    "\n",
    "for attr_str in gencode_tx_df['attribute'].values:\n",
    "    attr_dict = parse_attr_str(attr_str)\n",
    "    \n",
    "    if not attr_dict['ID'].endswith('Y'):  # Ignore pseudoautosome region (PAR_Y)\n",
    "        tx_id = attr_dict['ID'].split('.')[0]\n",
    "        tx_to_attr_dict[tx_id] = attr_dict"
   ]
  },
  {
   "cell_type": "code",
   "execution_count": null,
   "metadata": {},
   "outputs": [],
   "source": [
    "# Parse the HGNC file and make a dictionary which key and value are a gene symbol and its ensembl gene ID, respectively.\n",
    "hgnc_df_col_idx = {column: i for i, column in enumerate(hgnc_df.columns.values)}\n",
    "hgnc_df_val = hgnc_df.values\n",
    "\n",
    "symbol_to_gene_ids = {}\n",
    "alias_to_gene_ids = {}\n",
    "prev_symbol_to_gene_ids = {}\n",
    "\n",
    "for hgnc_entry in hgnc_df_val:\n",
    "    gene_symbol = hgnc_entry[hgnc_df_col_idx['symbol']]\n",
    "    alias_symbol_str = hgnc_entry[hgnc_df_col_idx['alias_symbol']]\n",
    "    prev_symbol_str = hgnc_entry[hgnc_df_col_idx['prev_symbol']]\n",
    "    ensembl_gene_id = hgnc_entry[hgnc_df_col_idx['ensembl_gene_id']]\n",
    "    \n",
    "    if ensembl_gene_id is np.nan or gene_to_attr_dict.get(ensembl_gene_id) is None:\n",
    "        gene_ids = None\n",
    "    else:\n",
    "        gencode_symbol = gene_to_attr_dict[ensembl_gene_id]['gene_name']\n",
    "        gene_ids = gene_name_to_ids.get(gencode_symbol)  # From GENCODE v44\n",
    "    \n",
    "    if gene_ids is not None: \n",
    "        symbol_to_gene_ids[gene_symbol] = gene_ids\n",
    "\n",
    "        if alias_symbol_str is not np.nan:\n",
    "            alias_symbols = alias_symbol_str.split('|')\n",
    "\n",
    "            for alias_symbol in alias_symbols:\n",
    "                alias_to_gene_ids[alias_symbol] = gene_ids\n",
    "\n",
    "        if prev_symbol_str is not np.nan:\n",
    "            prev_symbols = prev_symbol_str.split('|')\n",
    "\n",
    "            for prev_symbol in prev_symbols:\n",
    "                prev_symbol_to_gene_ids[prev_symbol] = gene_ids"
   ]
  },
  {
   "cell_type": "code",
   "execution_count": null,
   "metadata": {},
   "outputs": [],
   "source": [
    "# Function to find a gene ID from a gene symbol of the HGNC and the GENCODE v34\n",
    "def find_gene_ids(gene_symbol):\n",
    "    # Priority: \n",
    "    # 1. GENCODE v44\n",
    "    # 2. HGNC: symbol -> alias -> previous symbol\n",
    "    # If the gene IDs cannot be found, return None\n",
    "    \n",
    "    # GENCODE v44\n",
    "    gene_ids = gene_name_to_ids.get(gene_symbol)\n",
    "    \n",
    "    # HGNC\n",
    "    if gene_ids is None:\n",
    "        gene_ids = symbol_to_gene_ids.get(gene_symbol)\n",
    "\n",
    "        if gene_ids is None:\n",
    "            gene_ids = alias_to_gene_ids.get(gene_symbol)\n",
    "\n",
    "            if gene_ids is None:\n",
    "                gene_ids = prev_symbol_to_gene_ids.get(gene_symbol)\n",
    "\n",
    "    return gene_ids"
   ]
  },
  {
   "cell_type": "code",
   "execution_count": null,
   "metadata": {},
   "outputs": [],
   "source": [
    "#gene_to_attr_dict.get('ENSG00000223972', dict())"
   ]
  },
  {
   "cell_type": "code",
   "execution_count": null,
   "metadata": {},
   "outputs": [],
   "source": [
    "# Make a dictionary for the new gene matrix\n",
    "new_gene_mat_dict = {}\n",
    "\n",
    "for gene_id in gene_to_attr_dict: ## Edited\n",
    "    gene_val_dict = {}\n",
    "    gene_val_dict['gene_id'] = gene_to_attr_dict[gene_id]['ID']\n",
    "    gene_val_dict['gene_name'] = gene_to_attr_dict[gene_id]['gene_name']        \n",
    "    new_gene_mat_dict[gene_id] = gene_val_dict\n",
    "\n",
    "# Make a DataFrame for the new gene matrix\n",
    "gene_mat_df = pd.DataFrame.from_dict(new_gene_mat_dict, orient='index')\n",
    "gene_mat_cols = list(gene_mat_df.columns.values)\n",
    "gene_mat_cols = gene_mat_cols[-2:] + gene_mat_cols[:-2]\n",
    "gene_mat_df = gene_mat_df[gene_mat_cols]\n",
    "gene_mat_df.fillna(0, inplace=True)\n",
    "gene_mat_df = gene_mat_df.astype({gene_list_col: 'int64' for gene_list_col in gene_mat_cols[2:]})\n",
    "gene_mat_df.head()"
   ]
  },
  {
   "cell_type": "code",
   "execution_count": null,
   "metadata": {},
   "outputs": [],
   "source": [
    "#a = {1,2,3,4,5,6}\n",
    "#a = list(a)\n",
    "#a[-2:] + a[:-2]"
   ]
  },
  {
   "cell_type": "markdown",
   "metadata": {
    "pycharm": {
     "name": "#%% md\n"
    }
   },
   "source": [
    "### 3. Add GENCODE biotypes as gene list columns into the gene matrix"
   ]
  },
  {
   "cell_type": "code",
   "execution_count": null,
   "metadata": {
    "pycharm": {
     "name": "#%%\n"
    }
   },
   "outputs": [],
   "source": [
    "# Add GENCODE biotypes\n",
    "with open(gene_type_conf_path) as gene_type_conf_file:\n",
    "    biotype_dict = yaml.safe_load(gene_type_conf_file)\n",
    "\n",
    "for biotype_category in biotype_dict:\n",
    "    biotype_set = set(biotype_dict[biotype_category])\n",
    "    gene_mat_val_dict = {gene_id: 1 if gene_to_attr_dict[gene_id]['gene_type'] in biotype_set else 0 for gene_id in gene_to_attr_dict}\n",
    "    gene_mat_df[biotype_category] = pd.Series(gene_mat_val_dict)\n",
    "    \n",
    "gene_mat_df.head()"
   ]
  },
  {
   "cell_type": "markdown",
   "metadata": {
    "pycharm": {
     "name": "#%% md\n"
    }
   },
   "source": [
    "##### 03. Haploinsufficient genes"
   ]
  },
  {
   "cell_type": "code",
   "execution_count": null,
   "metadata": {
    "pycharm": {
     "name": "#%%\n"
    }
   },
   "outputs": [],
   "source": [
    "# load the dataset\n",
    "gnomad_gene_list_path = os.path.join(project_dir, path_dict['GNOMAD_GENE'])\n",
    "gnomad_gene_df = pd.read_table(gnomad_gene_list_path)\n",
    "\n",
    "# Extract HI genes (HI: Haploinsufficient)\n",
    "is_hi_gene_func = lambda pli: pli is not np.nan and pli >= 0.9\n",
    "is_hi_gene = np.vectorize(is_hi_gene_func)(gnomad_gene_df['pLI'].values)\n",
    "hi_gene_df = gnomad_gene_df[is_hi_gene]  \n",
    "\n",
    "# Dictionaries for pLI scores\n",
    "tx_to_pli = {}\n",
    "symbol_to_pli = {}\n",
    "gene_to_pli = {}\n",
    "\n",
    "# Update the 'tx_to_pli' and the 'symbol_to_pli'\n",
    "hi_txs = hi_gene_df['transcript'].values\n",
    "hi_symbols = hi_gene_df['gene'].values\n",
    "hi_plis = hi_gene_df['pLI'].values\n",
    "\n",
    "for tx_id, symbol, pli_score in zip(hi_txs, hi_symbols, hi_plis):\n",
    "    tx_to_pli[tx_id] = pli_score\n",
    "    prev_symbol_pli = symbol_to_pli.get(symbol)\n",
    "    \n",
    "    # Choose the maximum pLI score for duplicated symbols.\n",
    "    if prev_symbol_pli is None or prev_symbol_pli < pli_score:  \n",
    "        symbol_to_pli[symbol] = pli_score\n",
    "\n",
    "# There are 3 steps to update the 'gene_to_pli'\n",
    "# Step 1: Update the 'gene_to_pli' dictionary by getting gene IDs of the transcript IDs via the GENCODE\n",
    "depr_tx_set = set()\n",
    "hi_tx_list = hi_gene_df['transcript'].values\n",
    "\n",
    "for tx_id in hi_tx_list:\n",
    "    attr_dict = tx_to_attr_dict.get(tx_id)\n",
    "    \n",
    "    if attr_dict is None:\n",
    "        depr_tx_set.add(tx_id)\n",
    "    else:\n",
    "        gene_id = attr_dict['Parent'].split('.')[0]\n",
    "        prev_gene_pli = gene_to_pli.get(gene_id)\n",
    "        pli_score = tx_to_pli[tx_id]\n",
    "        \n",
    "        # Choose the maximum pLI score for duplicated genes.\n",
    "        if prev_gene_pli is None or prev_gene_pli < pli_score:    \n",
    "            gene_to_pli[gene_id] = pli_score\n",
    "\n",
    "# Step 2: Update the 'gene_to_pli' dictionary by getting gene IDs of the deprecated transcript IDs using \n",
    "depr_hi_gene_df = hi_gene_df[np.vectorize(lambda tx_id: tx_id in depr_tx_set)(hi_txs)]\n",
    "depr_gene_symbols = depr_hi_gene_df['gene'].values\n",
    "\n",
    "for depr_gene_symbol in depr_gene_symbols:\n",
    "    gene_ids = find_gene_ids(depr_gene_symbol)\n",
    "    \n",
    "    if gene_ids is None:\n",
    "        print(f'{depr_gene_symbol} cannot be found in both the GENCODE and the HGNC.')\n",
    "        continue\n",
    "    \n",
    "    # Update only if the same gene ID does not exist\n",
    "    for gene_id in gene_ids:\n",
    "        if gene_to_pli.get(gene_id) is None:  \n",
    "            gene_to_pli[gene_id] = symbol_to_pli[depr_gene_symbol]\n",
    "\n",
    "# Update the gene matrix\n",
    "# HC: High-confident\n",
    "is_hi_gene = np.vectorize(lambda gene_id: 0 if gene_to_pli.get(gene_id) is None else 1)(gene_mat_df.index.values)  # pLI score >= 0.9\n",
    "is_hc_hi_gene = np.vectorize(lambda gene_id: 1 if gene_to_pli.get(gene_id) is not None and gene_to_pli.get(gene_id) >= 0.995 else 0)(gene_mat_df.index.values)  # pLI score >= 0.995\n",
    "#gene_mat_df[gene_list_name_dict['GNOMAD_PLI90']] = is_hi_gene\n",
    "gene_mat_df[gene_list_name_dict['GNOMAD_PLI995']] = is_hc_hi_gene\n",
    "gene_mat_df.head()"
   ]
  },
  {
   "cell_type": "markdown",
   "metadata": {},
   "source": [
    "### 5. Save the gene matrix as a text file"
   ]
  },
  {
   "cell_type": "code",
   "execution_count": null,
   "metadata": {
    "pycharm": {
     "name": "#%%\n"
    }
   },
   "outputs": [],
   "source": [
    "# TODO: Write your own file path in here\n",
    "my_gene_mat_path = os.path.join(project_dir, 'my_gene_matrix_231123.txt')\n",
    "gene_mat_df.to_csv(my_gene_mat_path, sep='\\t', index=False)"
   ]
  },
  {
   "cell_type": "code",
   "execution_count": null,
   "metadata": {},
   "outputs": [],
   "source": []
  }
 ],
 "metadata": {
  "kernelspec": {
   "display_name": "Python 3",
   "language": "python",
   "name": "python3"
  },
  "language_info": {
   "codemirror_mode": {
    "name": "ipython",
    "version": 3
   },
   "file_extension": ".py",
   "mimetype": "text/x-python",
   "name": "python",
   "nbconvert_exporter": "python",
   "pygments_lexer": "ipython3",
   "version": "3.9.6"
  }
 },
 "nbformat": 4,
 "nbformat_minor": 4
}
