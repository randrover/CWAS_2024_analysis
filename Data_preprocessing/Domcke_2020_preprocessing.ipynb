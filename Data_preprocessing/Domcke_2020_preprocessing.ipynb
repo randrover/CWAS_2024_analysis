{
 "cells": [
  {
   "cell_type": "markdown",
   "metadata": {},
   "source": [
    "## Preprocessing data of Domcke et al., Science (2020)"
   ]
  },
  {
   "cell_type": "markdown",
   "metadata": {},
   "source": [
    "#### Data from https://descartes.brotmanbaty.org/bbi/human-chromatin-during-development/\n",
    "##### Cicero_coaccessibility_scores_by_cell_type.csv.gz"
   ]
  },
  {
   "cell_type": "code",
   "execution_count": null,
   "metadata": {},
   "outputs": [],
   "source": [
    "import os\n",
    "import pandas as pd\n",
    "from pybedtools import BedTool\n",
    "\n",
    "domcke_cre = pd.read_csv(\"Cicero_coaccessibility_scores_by_cell_type.csv.gz\", sep=\",\")"
   ]
  },
  {
   "cell_type": "code",
   "execution_count": null,
   "metadata": {},
   "outputs": [],
   "source": [
    "cerebrum = [x for x in domcke_cre.columns if \"cerebrum\" in x]\n",
    "cerebrum_cre = domcke_cre.loc[:, [\"Peak1\",\"Peak2\"]+cerebrum]"
   ]
  },
  {
   "cell_type": "code",
   "execution_count": null,
   "metadata": {},
   "outputs": [],
   "source": [
    "cerebrum_cre['is_cerebrum'] = cerebrum_cre.iloc[:, 2:].notna().sum(axis=1)\n",
    "cerebrum_cre = cerebrum_cre.loc[cerebrum_cre['is_cerebrum'] != 0]"
   ]
  },
  {
   "cell_type": "code",
   "execution_count": null,
   "metadata": {},
   "outputs": [],
   "source": [
    "outdir = \"/data1/cwas-plus/functional_annotations/Domcke\"\n",
    "\n",
    "domcke = cerebrum_cre"
   ]
  },
  {
   "cell_type": "code",
   "execution_count": null,
   "metadata": {},
   "outputs": [],
   "source": [
    "for c in domcke.columns.tolist()[2:]:\n",
    "    if not \"SKOR2\" in c:\n",
    "        c_peaks = domcke.loc[(domcke[c].notna())]\n",
    "        c_peaks_bed = pd.concat([c_peaks['Peak1'], c_peaks['Peak2']]).drop_duplicates().str.split(\"-\", expand=True)\n",
    "        c_peaks_bed = BedTool.from_dataframe(c_peaks_bed).sort().to_dataframe()\n",
    "        c_rename = c.split(\"_\")[0].replace(\" \", \"_\")\n",
    "        c_peaks_bed.to_csv(os.path.join(outdir, \"Domcke_\"+c_rename+\"_co-acessible_peaks.bed\"), sep='\\t', index=False, header=False)\n",
    "        \n",
    "        print(c_rename, len(c_peaks_bed))\n",
    "    "
   ]
  }
 ],
 "metadata": {
  "kernelspec": {
   "display_name": "cwas",
   "language": "python",
   "name": "python3"
  },
  "language_info": {
   "codemirror_mode": {
    "name": "ipython",
    "version": 3
   },
   "file_extension": ".py",
   "mimetype": "text/x-python",
   "name": "python",
   "nbconvert_exporter": "python",
   "pygments_lexer": "ipython3",
   "version": "3.10.12"
  }
 },
 "nbformat": 4,
 "nbformat_minor": 2
}
