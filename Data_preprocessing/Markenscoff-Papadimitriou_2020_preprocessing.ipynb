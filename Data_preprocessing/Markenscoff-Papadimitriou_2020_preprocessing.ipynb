{
 "cells": [
  {
   "cell_type": "markdown",
   "metadata": {},
   "source": [
    "## Preprocessing data of Markenscoff-Papadimitriou et al., Cell (2020)"
   ]
  },
  {
   "cell_type": "code",
   "execution_count": 3,
   "metadata": {},
   "outputs": [],
   "source": [
    "import pandas as pd\n",
    "import os, glob\n",
    "from pybedtools import BedTool"
   ]
  },
  {
   "cell_type": "code",
   "execution_count": 17,
   "metadata": {},
   "outputs": [],
   "source": [
    "pre = pd.read_excel(\"~/Dropbox/CWAS_paper_WD/Data/raw_annotations/Markenscoff-Papadimitriou_2020_TableS2.xlsx\", sheet_name=\"S2A\")\n",
    "pre = pre.loc[pre['pre_hg38'].notna()]"
   ]
  },
  {
   "cell_type": "code",
   "execution_count": 18,
   "metadata": {},
   "outputs": [],
   "source": [
    "regions_peak = ['overlaps_cge_peak',\n",
    " 'overlaps_lge_peak',\n",
    " 'overlaps_mge_peak',\n",
    " 'overlaps_motor_peak',\n",
    " 'overlaps_parietal_peak',\n",
    " 'overlaps_pfc_peak',\n",
    " 'overlaps_s1_peak',\n",
    " 'overlaps_temporal_peak',\n",
    " 'overlaps_v1_peak']"
   ]
  },
  {
   "cell_type": "code",
   "execution_count": 19,
   "metadata": {},
   "outputs": [
    {
     "data": {
      "text/plain": [
       "0"
      ]
     },
     "execution_count": 19,
     "metadata": {},
     "output_type": "execute_result"
    }
   ],
   "source": [
    "bg_regions = regions_peak[:3]\n",
    "cortex_regions = regions_peak[3:]\n",
    "\n",
    "pre_bg = pre.loc[:, [\"pre_hg38\"]+bg_regions]\n",
    "pre_bg['bg_overlaps'] = pre_bg.iloc[:, 1:].sum(axis=1)\n",
    "pre_bg = pre_bg.loc[pre_bg['bg_overlaps']>0]\n",
    "\n",
    "pre_bg_bed = pre_bg['pre_hg38'].str.split(':|-', expand=True)\n",
    "pre_bg_bed.columns = ['chr','start','end']\n",
    "pre_bg_bed = pre_bg_bed.loc[(pre_bg_bed['chr'].notna())&(pre_bg_bed['start'].notna())&(pre_bg_bed['end'].notna())]\n",
    "pre_bg_bed = BedTool.from_dataframe(pre_bg_bed).sort().to_dataframe()\n",
    "pre_bg_bed.to_csv(\"~/Dropbox/CWAS_paper_WD/Data/cwas_annotation.v5/pRE_basal_ganglia_enhancers.hg38.sorted.bed\", sep=\"\\t\", index=False, header=False)\n",
    "os.system(f\"bgzip -c ~/Dropbox/CWAS_paper_WD/Data/cwas_annotation.v5/pRE_basal_ganglia_enhancers.hg38.sorted.bed > ~/Dropbox/CWAS_paper_WD/Data/cwas_annotation.v5/pRE_basal_ganglia_enhancers.hg38.sorted.bed.gz\")"
   ]
  },
  {
   "cell_type": "code",
   "execution_count": 20,
   "metadata": {},
   "outputs": [
    {
     "data": {
      "text/plain": [
       "0"
      ]
     },
     "execution_count": 20,
     "metadata": {},
     "output_type": "execute_result"
    }
   ],
   "source": [
    "\n",
    "pre_cortex = pre.loc[:, [\"pre_hg38\"]+cortex_regions]\n",
    "pre_cortex['cortex_overlaps'] = pre_cortex.iloc[:, 1:].sum(axis=1)\n",
    "pre_cortex = pre_cortex.loc[pre_cortex['cortex_overlaps']>0]\n",
    "\n",
    "pre_cortex_bed = pre_cortex['pre_hg38'].str.split(':|-', expand=True)\n",
    "pre_cortex_bed.columns = ['chr','start','end']\n",
    "pre_cortex_bed = pre_cortex_bed.loc[(pre_cortex_bed['chr'].notna())&(pre_cortex_bed['start'].notna())&(pre_cortex_bed['end'].notna())]\n",
    "pre_cortex_bed = BedTool.from_dataframe(pre_cortex_bed).sort().to_dataframe()\n",
    "pre_cortex_bed.to_csv(\"~/Dropbox/CWAS_paper_WD/Data/cwas_annotation.v5/pRE_cortex_enhancers.hg38.sorted.bed\", sep=\"\\t\", index=False, header=False)\n",
    "os.system(f\"bgzip -c ~/Dropbox/CWAS_paper_WD/Data/cwas_annotation.v5/pRE_cortex_enhancers.hg38.sorted.bed > ~/Dropbox/CWAS_paper_WD/Data/cwas_annotation.v5/pRE_cortex_enhancers.hg38.sorted.bed.gz\")"
   ]
  },
  {
   "cell_type": "code",
   "execution_count": 14,
   "metadata": {},
   "outputs": [
    {
     "data": {
      "text/plain": [
       "0"
      ]
     },
     "execution_count": 14,
     "metadata": {},
     "output_type": "execute_result"
    }
   ],
   "source": [
    "os.system(f\"rm ~/Dropbox/CWAS_paper_WD/Data/cwas_annotation.v5/pRE_cortex_enhancers.hg38.sorted.bed ~/Dropbox/CWAS_paper_WD/Data/cwas_annotation.v5/pRE_basal_ganglia_enhancers.hg38.sorted.bed\")"
   ]
  },
  {
   "cell_type": "markdown",
   "metadata": {},
   "source": [
    "## Create index file"
   ]
  },
  {
   "cell_type": "code",
   "execution_count": 15,
   "metadata": {},
   "outputs": [
    {
     "data": {
      "text/plain": [
       "67"
      ]
     },
     "execution_count": 15,
     "metadata": {},
     "output_type": "execute_result"
    }
   ],
   "source": [
    "all_files = glob.glob(\"/Users/yujinkim/Dropbox/CWAS_paper_WD/Data/cwas_annotation.v5/*.bed.gz\")\n",
    "len(all_files)"
   ]
  },
  {
   "cell_type": "code",
   "execution_count": 16,
   "metadata": {},
   "outputs": [
    {
     "data": {
      "text/plain": [
       "['/Users/yujinkim/Dropbox/CWAS_paper_WD/Data/cwas_annotation.v5/pRE_basal_ganglia_enhancers.hg38.sorted.bed.gz',\n",
       " '/Users/yujinkim/Dropbox/CWAS_paper_WD/Data/cwas_annotation.v5/pRE_cortex_enhancers.hg38.sorted.bed.gz']"
      ]
     },
     "execution_count": 16,
     "metadata": {},
     "output_type": "execute_result"
    }
   ],
   "source": [
    "pre = [z for z in all_files if os.path.basename(z).startswith(\"pRE_\")]\n",
    "pre"
   ]
  },
  {
   "cell_type": "code",
   "execution_count": 17,
   "metadata": {},
   "outputs": [],
   "source": [
    "for f in pre:\n",
    "    os.system(f\"tabix -p bed {f} -f\")"
   ]
  },
  {
   "cell_type": "code",
   "execution_count": null,
   "metadata": {},
   "outputs": [],
   "source": []
  }
 ],
 "metadata": {
  "kernelspec": {
   "display_name": "cwas",
   "language": "python",
   "name": "python3"
  },
  "language_info": {
   "codemirror_mode": {
    "name": "ipython",
    "version": 3
   },
   "file_extension": ".py",
   "mimetype": "text/x-python",
   "name": "python",
   "nbconvert_exporter": "python",
   "pygments_lexer": "ipython3",
   "version": "3.9.6"
  }
 },
 "nbformat": 4,
 "nbformat_minor": 2
}
