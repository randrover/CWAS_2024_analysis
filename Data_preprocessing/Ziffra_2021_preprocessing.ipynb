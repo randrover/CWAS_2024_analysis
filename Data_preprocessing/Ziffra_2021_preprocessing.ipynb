{
 "cells": [
  {
   "cell_type": "markdown",
   "metadata": {},
   "source": [
    "## Preprocessing data of Ziffra et al., Nature (2021)"
   ]
  },
  {
   "cell_type": "code",
   "execution_count": null,
   "metadata": {},
   "outputs": [],
   "source": [
    "import pandas as pd\n",
    "import os, glob\n",
    "from natsort import natsort_keygen"
   ]
  },
  {
   "cell_type": "code",
   "execution_count": null,
   "metadata": {},
   "outputs": [],
   "source": [
    "peaks = pd.read_excel(\"~/Dropbox/CWAS_paper_WD/Data/raw_annotations/Ziffra2021_TableS2-13.xlsx\", sheet_name=\"ST2 AllPrimaryPeaks\")\n",
    "enhancers = pd.read_excel(\"~/Dropbox/CWAS_paper_WD/Data/raw_annotations/Ziffra2021_TableS2-13.xlsx\", sheet_name=\"ST5 EnhancerPeaks\")"
   ]
  },
  {
   "cell_type": "code",
   "execution_count": null,
   "metadata": {},
   "outputs": [],
   "source": [
    "cell_types = [c.replace(\"_Enhancerpeaks\", \"\") for c in enhancers.columns.tolist() if \"_Enhancerpeaks\" in c]\n",
    "cell_types"
   ]
  },
  {
   "cell_type": "code",
   "execution_count": null,
   "metadata": {},
   "outputs": [],
   "source": [
    "ziffra_dict = {}\n",
    "\n",
    "for c in cell_types:\n",
    "    enh_col = c + \"_Enhancerpeaks\"\n",
    "    tar_col = c + \"_targetgene\"\n",
    "    \n",
    "    peak_df = enhancers.loc[enhancers[enh_col]==1, [\"peak_name\", enh_col, tar_col]]\n",
    "    peak_df = pd.merge(peaks, peak_df, on=\"peak_name\")\n",
    "    peak_res = peak_df.iloc[:, [0,1,2,5]].sort_values([\"seqnames\",\"start\"], key=natsort_keygen())\n",
    "    peak_name = \"Ziffra_\" + c + \"_enhancers.hg38.sorted.bed\"\n",
    "    peak_res.to_csv(os.path.join(\"~/Dropbox/CWAS_paper_WD/Data/cwas_annotation.v5\", peak_name), sep=\"\\t\", index=False, header=False)\n",
    "    \n",
    "    ziffra_dict[peak_name] = \"ZiffraCRE.\" + c"
   ]
  },
  {
   "cell_type": "markdown",
   "metadata": {},
   "source": [
    "## Create index file"
   ]
  },
  {
   "cell_type": "code",
   "execution_count": null,
   "metadata": {},
   "outputs": [],
   "source": [
    "all_files = glob.glob(\"/Users/yujinkim/Dropbox/CWAS_paper_WD/Data/cwas_annotation.v5/*.bed.gz\")\n",
    "len(all_files)"
   ]
  },
  {
   "cell_type": "code",
   "execution_count": null,
   "metadata": {},
   "outputs": [],
   "source": [
    "pre = [z for z in all_files if os.path.basename(z).startswith(\"Ziffra2021\")]\n",
    "pre"
   ]
  },
  {
   "cell_type": "code",
   "execution_count": null,
   "metadata": {},
   "outputs": [],
   "source": [
    "for f in pre:\n",
    "    os.system(f\"tabix -p bed {f} -f\")"
   ]
  }
 ],
 "metadata": {
  "kernelspec": {
   "display_name": "cwas",
   "language": "python",
   "name": "python3"
  },
  "language_info": {
   "codemirror_mode": {
    "name": "ipython",
    "version": 3
   },
   "file_extension": ".py",
   "mimetype": "text/x-python",
   "name": "python",
   "nbconvert_exporter": "python",
   "pygments_lexer": "ipython3",
   "version": "3.9.6"
  }
 },
 "nbformat": 4,
 "nbformat_minor": 2
}
