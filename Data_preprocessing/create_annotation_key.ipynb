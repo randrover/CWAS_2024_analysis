{
 "cells": [
  {
   "cell_type": "markdown",
   "metadata": {},
   "source": [
    "## Create annotation key file (YAML) for CWAS analyses"
   ]
  },
  {
   "cell_type": "code",
   "execution_count": null,
   "metadata": {},
   "outputs": [],
   "source": [
    "import yaml\n",
    "import pandas as pd\n",
    "import os, glob"
   ]
  },
  {
   "cell_type": "code",
   "execution_count": null,
   "metadata": {},
   "outputs": [],
   "source": [
    "# Specify the path to your YAML file\n",
    "yaml_file_path = '/Users/yujinkim/Dropbox/CWAS_paper_WD/Data/raw_annotations/annotation_keys.yaml'\n",
    "\n",
    "# Open the YAML file and load its content\n",
    "with open(yaml_file_path, 'r') as yaml_file:\n",
    "    yaml_data = yaml.safe_load(yaml_file)\n",
    "\n",
    "# Now, yaml_data contains the parsed YAML content as a Python dictionary or list\n",
    "print(yaml_data)\n"
   ]
  },
  {
   "cell_type": "code",
   "execution_count": null,
   "metadata": {},
   "outputs": [],
   "source": [
    "# Specify the path to your Excel file\n",
    "xlsx_file_path = '/Users/yujinkim/Dropbox/CWAS_paper_WD/CWAS-Plus_annotations_v5_edited.xlsx'\n",
    "\n",
    "# Specify the sheet name you want to access\n",
    "sheet_name = 'Annotation v5'\n",
    "\n",
    "df = pd.read_excel(xlsx_file_path, sheet_name=sheet_name)"
   ]
  },
  {
   "cell_type": "code",
   "execution_count": null,
   "metadata": {},
   "outputs": [],
   "source": [
    "# Extract the keys from the DataFrame\n",
    "df_keys = set(df['Annotation Key'].values)"
   ]
  },
  {
   "cell_type": "code",
   "execution_count": null,
   "metadata": {},
   "outputs": [],
   "source": [
    "# Filter keys in yaml_data['functional_annotation'] based on the overlap\n",
    "filtered_keys = {key: value for key, value in yaml_data['functional_annotation'].items() if value in df_keys}"
   ]
  },
  {
   "cell_type": "code",
   "execution_count": null,
   "metadata": {},
   "outputs": [],
   "source": [
    "# Update the original dictionary\n",
    "yaml_data['functional_annotation'] = filtered_keys\n",
    "\n",
    "# Display the updated dictionary\n",
    "print(yaml_data)"
   ]
  },
  {
   "cell_type": "code",
   "execution_count": null,
   "metadata": {},
   "outputs": [],
   "source": [
    "# Filter keys in yaml_data['functional_annotation'] based on the overlap\n",
    "filtered_keys = {key: value for key, value in yaml_data['functional_score'].items() if value in df_keys}\n",
    "\n",
    "# Update the original dictionary\n",
    "yaml_data['functional_score'] = filtered_keys\n",
    "\n",
    "# Display the updated dictionary\n",
    "print(yaml_data)"
   ]
  },
  {
   "cell_type": "code",
   "execution_count": null,
   "metadata": {},
   "outputs": [],
   "source": [
    "# Assuming yaml_data is defined as mentioned in the previous response\n",
    "\n",
    "# New key-value pair to add\n",
    "new_key = 'primate.phyloP447way.hg38.over1.3.bed.gz'\n",
    "new_value = 'phyloP447way'\n",
    "\n",
    "# Add the new key-value pair to yaml_data['functional_score']\n",
    "yaml_data['functional_score'][new_key] = new_value"
   ]
  },
  {
   "cell_type": "markdown",
   "metadata": {},
   "source": [
    "## Get file that are not bgzipped and tabix"
   ]
  },
  {
   "cell_type": "code",
   "execution_count": null,
   "metadata": {},
   "outputs": [],
   "source": [
    "file_paths = glob.glob(\"/Users/yujinkim/Dropbox/CWAS_paper_WD/Data/cwas_annotation.v5/*.bed\")\n",
    "file_paths"
   ]
  },
  {
   "cell_type": "code",
   "execution_count": null,
   "metadata": {},
   "outputs": [],
   "source": [
    "for file_path in file_paths:\n",
    "    # Extract the file name and extension\n",
    "    base_path, file_name = os.path.split(file_path)\n",
    "    # Define the output file path\n",
    "    output_file_path = os.path.join(base_path, f\"{file_name}.gz\")\n",
    "\n",
    "    # Execute bgzip command using os.system\n",
    "    os.system(f\"bgzip -c {file_path} > {output_file_path}\")\n",
    "\n",
    "    print(f\"File '{file_path}' gzipped and saved to '{output_file_path}'\")\n",
    "    \n",
    "    # Define the output file path for tabix\n",
    "    tabixed_file_path = f\"{output_file_path}.tbi\"\n",
    "\n",
    "    # Execute tabix command using os.system\n",
    "    os.system(f\"tabix -p bed {output_file_path} -f\")\n",
    "\n",
    "    print(f\"File '{output_file_path}' indexed with tabix and saved to '{tabixed_file_path}'\")"
   ]
  },
  {
   "cell_type": "markdown",
   "metadata": {},
   "source": [
    "## Rename gz to bed.gz"
   ]
  },
  {
   "cell_type": "code",
   "execution_count": null,
   "metadata": {},
   "outputs": [],
   "source": [
    "file_paths = glob.glob(\"/Users/yujinkim/Dropbox/CWAS_paper_WD/Data/cwas_annotation.v5/*.gz\")\n",
    "file_paths"
   ]
  },
  {
   "cell_type": "code",
   "execution_count": null,
   "metadata": {},
   "outputs": [],
   "source": [
    "# Filter filenames that end with 'gz' but not 'bed.gz'\n",
    "filtered_filenames = [\n",
    "    os.path.splitext(os.path.basename(path))[0]  # Get the filename without extension\n",
    "    for path in file_paths\n",
    "    if path.endswith('gz') and not path.endswith('bed.gz')\n",
    "]\n",
    "\n",
    "# Display the filtered filenames\n",
    "print(\"Filenames ending with 'gz' but not 'bed.gz': \", filtered_filenames)"
   ]
  },
  {
   "cell_type": "code",
   "execution_count": null,
   "metadata": {},
   "outputs": [],
   "source": [
    "# Rename files using the 'mv' command\n",
    "for filename in filtered_filenames:\n",
    "    original_path = f\"~/Dropbox/CWAS_paper_WD/Data/cwas_annotation.v5/{filename}.gz\"\n",
    "    new_path = f\"~/Dropbox/CWAS_paper_WD/Data/cwas_annotation.v5/{filename}.bed.gz\"\n",
    "\n",
    "    os.system(f\"mv {original_path} {new_path}\")\n",
    "\n",
    "    print(f\"Renamed '{original_path}' to '{new_path}'\")"
   ]
  },
  {
   "cell_type": "markdown",
   "metadata": {},
   "source": [
    "## Add new annotations"
   ]
  },
  {
   "cell_type": "code",
   "execution_count": null,
   "metadata": {},
   "outputs": [],
   "source": [
    "file_paths = glob.glob(\"/Users/yujinkim/Dropbox/CWAS_paper_WD/Data/cwas_annotation.v5/*.bed.gz\")\n",
    "file_paths"
   ]
  },
  {
   "cell_type": "code",
   "execution_count": null,
   "metadata": {},
   "outputs": [],
   "source": [
    "# Assuming yaml_data is defined as mentioned in previous responses\n",
    "yaml_functional_annotation = yaml_data.get('functional_annotation', {})\n",
    "yaml_functional_annotation"
   ]
  },
  {
   "cell_type": "code",
   "execution_count": null,
   "metadata": {},
   "outputs": [],
   "source": [
    "# Extract file names from file paths\n",
    "file_names = [os.path.basename(path) for path in file_paths]\n",
    "\n",
    "# Find values in file_names that are not in yaml_functional_score\n",
    "new_values = set(file_names) - set(yaml_functional_annotation.keys())\n",
    "\n",
    "# Display values that are in file_paths but not in yaml_data['functional_score']\n",
    "print(\"Values in file_paths but not in yaml_data['functional_score']: \", new_values)"
   ]
  },
  {
   "cell_type": "code",
   "execution_count": null,
   "metadata": {},
   "outputs": [],
   "source": [
    "import os\n",
    "\n",
    "# Assuming yaml_data is defined as mentioned in previous responses\n",
    "yaml_functional_score = yaml_data.get('functional_score', {})\n",
    "\n",
    "# Find values in file_names that are not in yaml_functional_score\n",
    "diff_Val = set(new_values) - set(yaml_functional_score.keys())\n",
    "\n",
    "# Display values in file_paths but not in yaml_data['functional_score']\n",
    "print(\"Values in file_paths but not in yaml_data['functional_score']: \", diff_Val)\n",
    "\n",
    "# Remove values that overlap with yaml_data['functional_score']\n",
    "new_values_without_overlap = diff_Val - set(yaml_functional_score.keys())\n",
    "\n",
    "# Display the final set of values after removing the overlap\n",
    "print(\"Filtered values without overlap: \", new_values_without_overlap)"
   ]
  },
  {
   "cell_type": "markdown",
   "metadata": {},
   "source": [
    "## ASD5TF"
   ]
  },
  {
   "cell_type": "code",
   "execution_count": null,
   "metadata": {},
   "outputs": [],
   "source": [
    "# Assuming yaml_data is defined as mentioned in the previous response\n",
    "\n",
    "# New key-value pair to add\n",
    "new_key = 'ASD5TF_common.sorted.bed.gz'\n",
    "new_value = 'ASD5TF.Common'\n",
    "\n",
    "# Add the new key-value pair to yaml_data['functional_score']\n",
    "yaml_data['functional_annotation'][new_key] = new_value"
   ]
  },
  {
   "cell_type": "code",
   "execution_count": null,
   "metadata": {},
   "outputs": [],
   "source": [
    "# Assuming yaml_data is defined as mentioned in previous responses\n",
    "yaml_functional_score = yaml_data.get('functional_annotation', {})\n",
    "\n",
    "# Find values in file_names that are not in yaml_functional_score\n",
    "diff_Val = set(new_values_without_overlap) - set(yaml_functional_score.keys())\n",
    "\n",
    "# Remove values that overlap with yaml_data['functional_score']\n",
    "updated_non_overlap = diff_Val - set(yaml_functional_score.keys())\n",
    "\n",
    "# Display the final set of values after removing the overlap\n",
    "print(\"Filtered values without overlap: \", updated_non_overlap)"
   ]
  },
  {
   "cell_type": "code",
   "execution_count": null,
   "metadata": {},
   "outputs": [],
   "source": [
    "# Assuming yaml_data is defined as mentioned in previous responses\n",
    "yaml_functional_annotation = yaml_data.get('functional_annotation', {})\n",
    "\n",
    "sorted_new_values = sorted(new_values_without_overlap)\n",
    "# Add new keys and values to yaml_data['functional_annotation']\n",
    "for index, value in enumerate(sorted_new_values, start=1):\n",
    "    yaml_functional_annotation[value] = index\n",
    "\n",
    "# Update the original dictionary\n",
    "yaml_data['functional_annotation'] = yaml_functional_annotation\n",
    "\n",
    "# Display the updated dictionary\n",
    "print(yaml_data)"
   ]
  },
  {
   "cell_type": "code",
   "execution_count": null,
   "metadata": {},
   "outputs": [],
   "source": [
    "# Specify the path to save the YAML file\n",
    "output_yaml_path = '/Users/yujinkim/Dropbox/CWAS_paper_WD/Data/cwas_annotation.v5/annotation_keys.yaml'\n",
    "\n",
    "# Save the dictionary to a YAML file\n",
    "with open(output_yaml_path, 'w') as yaml_file:\n",
    "    yaml.dump(yaml_data, yaml_file, default_flow_style=False)\n",
    "\n",
    "print(f\"YAML data saved to {output_yaml_path}\")"
   ]
  },
  {
   "cell_type": "code",
   "execution_count": null,
   "metadata": {},
   "outputs": [],
   "source": [
    "# Filter rows based on the exact match condition\n",
    "filtered_df = df[df['Study/Database'] == 'Herring et al., Cell (2022)']\n",
    "filtered_df"
   ]
  }
 ],
 "metadata": {
  "kernelspec": {
   "display_name": "Python 3",
   "language": "python",
   "name": "python3"
  },
  "language_info": {
   "codemirror_mode": {
    "name": "ipython",
    "version": 3
   },
   "file_extension": ".py",
   "mimetype": "text/x-python",
   "name": "python",
   "nbconvert_exporter": "python",
   "pygments_lexer": "ipython3",
   "version": "3.9.6"
  }
 },
 "nbformat": 4,
 "nbformat_minor": 2
}
